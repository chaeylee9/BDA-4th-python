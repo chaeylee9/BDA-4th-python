{
 "cells": [
  {
   "cell_type": "markdown",
   "id": "fe16ddcc",
   "metadata": {},
   "source": [
    "### 시리즈 메서드 "
   ]
  },
  {
   "cell_type": "code",
   "execution_count": 1,
   "id": "f73d2364",
   "metadata": {},
   "outputs": [],
   "source": [
    "import pandas as pd\n",
    "mpg = pd.read_csv('mpg.csv')"
   ]
  },
  {
   "cell_type": "code",
   "execution_count": 2,
   "id": "4044d6f7",
   "metadata": {},
   "outputs": [
    {
     "data": {
      "text/html": [
       "<div>\n",
       "<style scoped>\n",
       "    .dataframe tbody tr th:only-of-type {\n",
       "        vertical-align: middle;\n",
       "    }\n",
       "\n",
       "    .dataframe tbody tr th {\n",
       "        vertical-align: top;\n",
       "    }\n",
       "\n",
       "    .dataframe thead th {\n",
       "        text-align: right;\n",
       "    }\n",
       "</style>\n",
       "<table border=\"1\" class=\"dataframe\">\n",
       "  <thead>\n",
       "    <tr style=\"text-align: right;\">\n",
       "      <th></th>\n",
       "      <th>manufacturer</th>\n",
       "      <th>model</th>\n",
       "      <th>displ</th>\n",
       "      <th>year</th>\n",
       "      <th>cyl</th>\n",
       "      <th>trans</th>\n",
       "      <th>drv</th>\n",
       "      <th>cty</th>\n",
       "      <th>hwy</th>\n",
       "      <th>fl</th>\n",
       "      <th>category</th>\n",
       "    </tr>\n",
       "  </thead>\n",
       "  <tbody>\n",
       "    <tr>\n",
       "      <th>0</th>\n",
       "      <td>audi</td>\n",
       "      <td>a4</td>\n",
       "      <td>1.8</td>\n",
       "      <td>1999</td>\n",
       "      <td>4</td>\n",
       "      <td>auto(l5)</td>\n",
       "      <td>f</td>\n",
       "      <td>18</td>\n",
       "      <td>29</td>\n",
       "      <td>p</td>\n",
       "      <td>compact</td>\n",
       "    </tr>\n",
       "    <tr>\n",
       "      <th>1</th>\n",
       "      <td>audi</td>\n",
       "      <td>a4</td>\n",
       "      <td>1.8</td>\n",
       "      <td>1999</td>\n",
       "      <td>4</td>\n",
       "      <td>manual(m5)</td>\n",
       "      <td>f</td>\n",
       "      <td>21</td>\n",
       "      <td>29</td>\n",
       "      <td>p</td>\n",
       "      <td>compact</td>\n",
       "    </tr>\n",
       "    <tr>\n",
       "      <th>2</th>\n",
       "      <td>audi</td>\n",
       "      <td>a4</td>\n",
       "      <td>2.0</td>\n",
       "      <td>2008</td>\n",
       "      <td>4</td>\n",
       "      <td>manual(m6)</td>\n",
       "      <td>f</td>\n",
       "      <td>20</td>\n",
       "      <td>31</td>\n",
       "      <td>p</td>\n",
       "      <td>compact</td>\n",
       "    </tr>\n",
       "    <tr>\n",
       "      <th>3</th>\n",
       "      <td>audi</td>\n",
       "      <td>a4</td>\n",
       "      <td>2.0</td>\n",
       "      <td>2008</td>\n",
       "      <td>4</td>\n",
       "      <td>auto(av)</td>\n",
       "      <td>f</td>\n",
       "      <td>21</td>\n",
       "      <td>30</td>\n",
       "      <td>p</td>\n",
       "      <td>compact</td>\n",
       "    </tr>\n",
       "    <tr>\n",
       "      <th>4</th>\n",
       "      <td>audi</td>\n",
       "      <td>a4</td>\n",
       "      <td>2.8</td>\n",
       "      <td>1999</td>\n",
       "      <td>6</td>\n",
       "      <td>auto(l5)</td>\n",
       "      <td>f</td>\n",
       "      <td>16</td>\n",
       "      <td>26</td>\n",
       "      <td>p</td>\n",
       "      <td>compact</td>\n",
       "    </tr>\n",
       "    <tr>\n",
       "      <th>...</th>\n",
       "      <td>...</td>\n",
       "      <td>...</td>\n",
       "      <td>...</td>\n",
       "      <td>...</td>\n",
       "      <td>...</td>\n",
       "      <td>...</td>\n",
       "      <td>...</td>\n",
       "      <td>...</td>\n",
       "      <td>...</td>\n",
       "      <td>...</td>\n",
       "      <td>...</td>\n",
       "    </tr>\n",
       "    <tr>\n",
       "      <th>229</th>\n",
       "      <td>volkswagen</td>\n",
       "      <td>passat</td>\n",
       "      <td>2.0</td>\n",
       "      <td>2008</td>\n",
       "      <td>4</td>\n",
       "      <td>auto(s6)</td>\n",
       "      <td>f</td>\n",
       "      <td>19</td>\n",
       "      <td>28</td>\n",
       "      <td>p</td>\n",
       "      <td>midsize</td>\n",
       "    </tr>\n",
       "    <tr>\n",
       "      <th>230</th>\n",
       "      <td>volkswagen</td>\n",
       "      <td>passat</td>\n",
       "      <td>2.0</td>\n",
       "      <td>2008</td>\n",
       "      <td>4</td>\n",
       "      <td>manual(m6)</td>\n",
       "      <td>f</td>\n",
       "      <td>21</td>\n",
       "      <td>29</td>\n",
       "      <td>p</td>\n",
       "      <td>midsize</td>\n",
       "    </tr>\n",
       "    <tr>\n",
       "      <th>231</th>\n",
       "      <td>volkswagen</td>\n",
       "      <td>passat</td>\n",
       "      <td>2.8</td>\n",
       "      <td>1999</td>\n",
       "      <td>6</td>\n",
       "      <td>auto(l5)</td>\n",
       "      <td>f</td>\n",
       "      <td>16</td>\n",
       "      <td>26</td>\n",
       "      <td>p</td>\n",
       "      <td>midsize</td>\n",
       "    </tr>\n",
       "    <tr>\n",
       "      <th>232</th>\n",
       "      <td>volkswagen</td>\n",
       "      <td>passat</td>\n",
       "      <td>2.8</td>\n",
       "      <td>1999</td>\n",
       "      <td>6</td>\n",
       "      <td>manual(m5)</td>\n",
       "      <td>f</td>\n",
       "      <td>18</td>\n",
       "      <td>26</td>\n",
       "      <td>p</td>\n",
       "      <td>midsize</td>\n",
       "    </tr>\n",
       "    <tr>\n",
       "      <th>233</th>\n",
       "      <td>volkswagen</td>\n",
       "      <td>passat</td>\n",
       "      <td>3.6</td>\n",
       "      <td>2008</td>\n",
       "      <td>6</td>\n",
       "      <td>auto(s6)</td>\n",
       "      <td>f</td>\n",
       "      <td>17</td>\n",
       "      <td>26</td>\n",
       "      <td>p</td>\n",
       "      <td>midsize</td>\n",
       "    </tr>\n",
       "  </tbody>\n",
       "</table>\n",
       "<p>234 rows × 11 columns</p>\n",
       "</div>"
      ],
      "text/plain": [
       "    manufacturer   model  displ  year  cyl       trans drv  cty  hwy fl  \\\n",
       "0           audi      a4    1.8  1999    4    auto(l5)   f   18   29  p   \n",
       "1           audi      a4    1.8  1999    4  manual(m5)   f   21   29  p   \n",
       "2           audi      a4    2.0  2008    4  manual(m6)   f   20   31  p   \n",
       "3           audi      a4    2.0  2008    4    auto(av)   f   21   30  p   \n",
       "4           audi      a4    2.8  1999    6    auto(l5)   f   16   26  p   \n",
       "..           ...     ...    ...   ...  ...         ...  ..  ...  ... ..   \n",
       "229   volkswagen  passat    2.0  2008    4    auto(s6)   f   19   28  p   \n",
       "230   volkswagen  passat    2.0  2008    4  manual(m6)   f   21   29  p   \n",
       "231   volkswagen  passat    2.8  1999    6    auto(l5)   f   16   26  p   \n",
       "232   volkswagen  passat    2.8  1999    6  manual(m5)   f   18   26  p   \n",
       "233   volkswagen  passat    3.6  2008    6    auto(s6)   f   17   26  p   \n",
       "\n",
       "    category  \n",
       "0    compact  \n",
       "1    compact  \n",
       "2    compact  \n",
       "3    compact  \n",
       "4    compact  \n",
       "..       ...  \n",
       "229  midsize  \n",
       "230  midsize  \n",
       "231  midsize  \n",
       "232  midsize  \n",
       "233  midsize  \n",
       "\n",
       "[234 rows x 11 columns]"
      ]
     },
     "execution_count": 2,
     "metadata": {},
     "output_type": "execute_result"
    }
   ],
   "source": [
    "mpg"
   ]
  },
  {
   "cell_type": "code",
   "execution_count": 3,
   "id": "e2435cc1",
   "metadata": {},
   "outputs": [],
   "source": [
    "manu = mpg['manufacturer']"
   ]
  },
  {
   "cell_type": "code",
   "execution_count": 4,
   "id": "9da15335",
   "metadata": {},
   "outputs": [],
   "source": [
    "hwy = mpg['hwy']"
   ]
  },
  {
   "cell_type": "markdown",
   "id": "0217f0be",
   "metadata": {},
   "source": [
    "- append\n",
    "- 시리즈 뒤에 새로운 값 합치기"
   ]
  },
  {
   "cell_type": "code",
   "execution_count": 9,
   "id": "40e94335",
   "metadata": {},
   "outputs": [
    {
     "data": {
      "text/plain": [
       "0      29\n",
       "1      29\n",
       "2      31\n",
       "3      30\n",
       "4      26\n",
       "       ..\n",
       "229    28\n",
       "230    29\n",
       "231    26\n",
       "232    26\n",
       "233    26\n",
       "Name: hwy, Length: 234, dtype: int64"
      ]
     },
     "execution_count": 9,
     "metadata": {},
     "output_type": "execute_result"
    }
   ],
   "source": [
    "hwy"
   ]
  },
  {
   "cell_type": "code",
   "execution_count": 10,
   "id": "2c509632",
   "metadata": {},
   "outputs": [
    {
     "data": {
      "text/plain": [
       "0            audi\n",
       "1            audi\n",
       "2            audi\n",
       "3            audi\n",
       "4            audi\n",
       "          ...    \n",
       "229    volkswagen\n",
       "230    volkswagen\n",
       "231    volkswagen\n",
       "232    volkswagen\n",
       "233    volkswagen\n",
       "Name: manufacturer, Length: 234, dtype: object"
      ]
     },
     "execution_count": 10,
     "metadata": {},
     "output_type": "execute_result"
    }
   ],
   "source": [
    "manu"
   ]
  },
  {
   "cell_type": "code",
   "execution_count": 11,
   "id": "724413cd",
   "metadata": {},
   "outputs": [],
   "source": [
    "tmp = hwy.append(manu)"
   ]
  },
  {
   "cell_type": "code",
   "execution_count": 12,
   "id": "54409fdf",
   "metadata": {},
   "outputs": [
    {
     "data": {
      "text/plain": [
       "0              29\n",
       "1              29\n",
       "2              31\n",
       "3              30\n",
       "4              26\n",
       "          ...    \n",
       "229    volkswagen\n",
       "230    volkswagen\n",
       "231    volkswagen\n",
       "232    volkswagen\n",
       "233    volkswagen\n",
       "Length: 468, dtype: object"
      ]
     },
     "execution_count": 12,
     "metadata": {},
     "output_type": "execute_result"
    }
   ],
   "source": [
    "tmp"
   ]
  },
  {
   "cell_type": "markdown",
   "id": "c7f67a32",
   "metadata": {},
   "source": [
    "- describe()\n",
    "- 통계량 요약"
   ]
  },
  {
   "cell_type": "code",
   "execution_count": 14,
   "id": "d53b31ab",
   "metadata": {},
   "outputs": [
    {
     "data": {
      "text/plain": [
       "count    234.000000\n",
       "mean      23.440171\n",
       "std        5.954643\n",
       "min       12.000000\n",
       "25%       18.000000\n",
       "50%       24.000000\n",
       "75%       27.000000\n",
       "max       44.000000\n",
       "Name: hwy, dtype: float64"
      ]
     },
     "execution_count": 14,
     "metadata": {},
     "output_type": "execute_result"
    }
   ],
   "source": [
    "hwy.describe()"
   ]
  },
  {
   "cell_type": "markdown",
   "id": "5c8e53b1",
   "metadata": {},
   "source": [
    "- drop_duplicates\n",
    "- 중복값 제거"
   ]
  },
  {
   "cell_type": "code",
   "execution_count": 18,
   "id": "74f47de2",
   "metadata": {},
   "outputs": [
    {
     "data": {
      "text/plain": [
       "0      False\n",
       "1       True\n",
       "2       True\n",
       "3       True\n",
       "4       True\n",
       "       ...  \n",
       "229     True\n",
       "230     True\n",
       "231     True\n",
       "232     True\n",
       "233     True\n",
       "Name: manufacturer, Length: 234, dtype: bool"
      ]
     },
     "execution_count": 18,
     "metadata": {},
     "output_type": "execute_result"
    }
   ],
   "source": [
    "manu.duplicated()\n",
    "#중복값 확인"
   ]
  },
  {
   "cell_type": "code",
   "execution_count": 19,
   "id": "d12c50d1",
   "metadata": {},
   "outputs": [
    {
     "data": {
      "text/plain": [
       "0            audi\n",
       "18      chevrolet\n",
       "37          dodge\n",
       "74           ford\n",
       "99          honda\n",
       "108       hyundai\n",
       "122          jeep\n",
       "130    land rover\n",
       "134       lincoln\n",
       "137       mercury\n",
       "141        nissan\n",
       "154       pontiac\n",
       "159        subaru\n",
       "173        toyota\n",
       "207    volkswagen\n",
       "Name: manufacturer, dtype: object"
      ]
     },
     "execution_count": 19,
     "metadata": {},
     "output_type": "execute_result"
    }
   ],
   "source": [
    "manu.drop_duplicates()\n",
    "#고유값만 반환됨"
   ]
  },
  {
   "cell_type": "markdown",
   "id": "ec6add27",
   "metadata": {},
   "source": [
    "- equals\n",
    "- 두 데이터가 일치하는지 확인"
   ]
  },
  {
   "cell_type": "code",
   "execution_count": 25,
   "id": "0d42adf3",
   "metadata": {},
   "outputs": [
    {
     "data": {
      "text/plain": [
       "True"
      ]
     },
     "execution_count": 25,
     "metadata": {},
     "output_type": "execute_result"
    }
   ],
   "source": [
    "manu.equals(manu)"
   ]
  },
  {
   "cell_type": "code",
   "execution_count": 26,
   "id": "06e2d0fc",
   "metadata": {},
   "outputs": [
    {
     "data": {
      "text/plain": [
       "False"
      ]
     },
     "execution_count": 26,
     "metadata": {},
     "output_type": "execute_result"
    }
   ],
   "source": [
    "manu.equals(hwy)"
   ]
  },
  {
   "cell_type": "markdown",
   "id": "24a964de",
   "metadata": {},
   "source": [
    "- get_values\n",
    "- 시리즈 값 구하기 (value와 동일)"
   ]
  },
  {
   "cell_type": "code",
   "execution_count": 50,
   "id": "659dfbf1",
   "metadata": {},
   "outputs": [
    {
     "data": {
      "text/plain": [
       "array(['audi', 'audi', 'audi', 'audi', 'audi', 'audi', 'audi', 'audi',\n",
       "       'audi', 'audi', 'audi', 'audi', 'audi', 'audi', 'audi', 'audi',\n",
       "       'audi', 'audi', 'chevrolet', 'chevrolet', 'chevrolet', 'chevrolet',\n",
       "       'chevrolet', 'chevrolet', 'chevrolet', 'chevrolet', 'chevrolet',\n",
       "       'chevrolet', 'chevrolet', 'chevrolet', 'chevrolet', 'chevrolet',\n",
       "       'chevrolet', 'chevrolet', 'chevrolet', 'chevrolet', 'chevrolet',\n",
       "       'dodge', 'dodge', 'dodge', 'dodge', 'dodge', 'dodge', 'dodge',\n",
       "       'dodge', 'dodge', 'dodge', 'dodge', 'dodge', 'dodge', 'dodge',\n",
       "       'dodge', 'dodge', 'dodge', 'dodge', 'dodge', 'dodge', 'dodge',\n",
       "       'dodge', 'dodge', 'dodge', 'dodge', 'dodge', 'dodge', 'dodge',\n",
       "       'dodge', 'dodge', 'dodge', 'dodge', 'dodge', 'dodge', 'dodge',\n",
       "       'dodge', 'dodge', 'ford', 'ford', 'ford', 'ford', 'ford', 'ford',\n",
       "       'ford', 'ford', 'ford', 'ford', 'ford', 'ford', 'ford', 'ford',\n",
       "       'ford', 'ford', 'ford', 'ford', 'ford', 'ford', 'ford', 'ford',\n",
       "       'ford', 'ford', 'ford', 'honda', 'honda', 'honda', 'honda',\n",
       "       'honda', 'honda', 'honda', 'honda', 'honda', 'hyundai', 'hyundai',\n",
       "       'hyundai', 'hyundai', 'hyundai', 'hyundai', 'hyundai', 'hyundai',\n",
       "       'hyundai', 'hyundai', 'hyundai', 'hyundai', 'hyundai', 'hyundai',\n",
       "       'jeep', 'jeep', 'jeep', 'jeep', 'jeep', 'jeep', 'jeep', 'jeep',\n",
       "       'land rover', 'land rover', 'land rover', 'land rover', 'lincoln',\n",
       "       'lincoln', 'lincoln', 'mercury', 'mercury', 'mercury', 'mercury',\n",
       "       'nissan', 'nissan', 'nissan', 'nissan', 'nissan', 'nissan',\n",
       "       'nissan', 'nissan', 'nissan', 'nissan', 'nissan', 'nissan',\n",
       "       'nissan', 'pontiac', 'pontiac', 'pontiac', 'pontiac', 'pontiac',\n",
       "       'subaru', 'subaru', 'subaru', 'subaru', 'subaru', 'subaru',\n",
       "       'subaru', 'subaru', 'subaru', 'subaru', 'subaru', 'subaru',\n",
       "       'subaru', 'subaru', 'toyota', 'toyota', 'toyota', 'toyota',\n",
       "       'toyota', 'toyota', 'toyota', 'toyota', 'toyota', 'toyota',\n",
       "       'toyota', 'toyota', 'toyota', 'toyota', 'toyota', 'toyota',\n",
       "       'toyota', 'toyota', 'toyota', 'toyota', 'toyota', 'toyota',\n",
       "       'toyota', 'toyota', 'toyota', 'toyota', 'toyota', 'toyota',\n",
       "       'toyota', 'toyota', 'toyota', 'toyota', 'toyota', 'toyota',\n",
       "       'volkswagen', 'volkswagen', 'volkswagen', 'volkswagen',\n",
       "       'volkswagen', 'volkswagen', 'volkswagen', 'volkswagen',\n",
       "       'volkswagen', 'volkswagen', 'volkswagen', 'volkswagen',\n",
       "       'volkswagen', 'volkswagen', 'volkswagen', 'volkswagen',\n",
       "       'volkswagen', 'volkswagen', 'volkswagen', 'volkswagen',\n",
       "       'volkswagen', 'volkswagen', 'volkswagen', 'volkswagen',\n",
       "       'volkswagen', 'volkswagen', 'volkswagen'], dtype=object)"
      ]
     },
     "execution_count": 50,
     "metadata": {},
     "output_type": "execute_result"
    }
   ],
   "source": [
    "manu.values"
   ]
  },
  {
   "cell_type": "markdown",
   "id": "2bb335f0",
   "metadata": {},
   "source": [
    "- isin\n",
    "- 시리즈 안에 해당 값이 있는지 bool 형태로 출력"
   ]
  },
  {
   "cell_type": "code",
   "execution_count": 28,
   "id": "c9bace15",
   "metadata": {},
   "outputs": [
    {
     "data": {
      "text/plain": [
       "0       True\n",
       "1       True\n",
       "2       True\n",
       "3       True\n",
       "4       True\n",
       "       ...  \n",
       "229    False\n",
       "230    False\n",
       "231    False\n",
       "232    False\n",
       "233    False\n",
       "Name: manufacturer, Length: 234, dtype: bool"
      ]
     },
     "execution_count": 28,
     "metadata": {},
     "output_type": "execute_result"
    }
   ],
   "source": [
    "manu.isin(['audi'])"
   ]
  },
  {
   "cell_type": "code",
   "execution_count": 30,
   "id": "12f252e1",
   "metadata": {},
   "outputs": [
    {
     "data": {
      "text/plain": [
       "0      True\n",
       "1      True\n",
       "2      True\n",
       "3      True\n",
       "4      True\n",
       "       ... \n",
       "229    True\n",
       "230    True\n",
       "231    True\n",
       "232    True\n",
       "233    True\n",
       "Name: manufacturer, Length: 234, dtype: bool"
      ]
     },
     "execution_count": 30,
     "metadata": {},
     "output_type": "execute_result"
    }
   ],
   "source": [
    "manu.isin(['audi', 'volkswagen'])\n",
    "#리스트 형태로 입력, 여러개 입력 가능"
   ]
  },
  {
   "cell_type": "markdown",
   "id": "9c2ac7a8",
   "metadata": {},
   "source": [
    "- min\n",
    "- 최솟값 출력"
   ]
  },
  {
   "cell_type": "code",
   "execution_count": 31,
   "id": "34211377",
   "metadata": {},
   "outputs": [
    {
     "data": {
      "text/plain": [
       "12"
      ]
     },
     "execution_count": 31,
     "metadata": {},
     "output_type": "execute_result"
    }
   ],
   "source": [
    "hwy.min()"
   ]
  },
  {
   "cell_type": "code",
   "execution_count": 32,
   "id": "7cb72af1",
   "metadata": {},
   "outputs": [
    {
     "data": {
      "text/plain": [
       "'audi'"
      ]
     },
     "execution_count": 32,
     "metadata": {},
     "output_type": "execute_result"
    }
   ],
   "source": [
    "manu.min()\n",
    "#문자열 입력하면 인덱스로 계산"
   ]
  },
  {
   "cell_type": "markdown",
   "id": "9c112faf",
   "metadata": {},
   "source": [
    "- max\n",
    "- 최댓값 출력"
   ]
  },
  {
   "cell_type": "code",
   "execution_count": 33,
   "id": "f968ec7b",
   "metadata": {},
   "outputs": [
    {
     "data": {
      "text/plain": [
       "44"
      ]
     },
     "execution_count": 33,
     "metadata": {},
     "output_type": "execute_result"
    }
   ],
   "source": [
    "hwy.max()"
   ]
  },
  {
   "cell_type": "code",
   "execution_count": 34,
   "id": "bf7692c1",
   "metadata": {},
   "outputs": [
    {
     "data": {
      "text/plain": [
       "'volkswagen'"
      ]
     },
     "execution_count": 34,
     "metadata": {},
     "output_type": "execute_result"
    }
   ],
   "source": [
    "manu.max()"
   ]
  },
  {
   "cell_type": "markdown",
   "id": "7b08e22c",
   "metadata": {},
   "source": [
    "- 기초통계관련"
   ]
  },
  {
   "cell_type": "code",
   "execution_count": 35,
   "id": "a3612215",
   "metadata": {},
   "outputs": [
    {
     "data": {
      "text/plain": [
       "24.0"
      ]
     },
     "execution_count": 35,
     "metadata": {},
     "output_type": "execute_result"
    }
   ],
   "source": [
    "hwy.median()\n",
    "#중앙값"
   ]
  },
  {
   "cell_type": "code",
   "execution_count": 36,
   "id": "814bb90c",
   "metadata": {},
   "outputs": [
    {
     "data": {
      "text/plain": [
       "5.954643441166443"
      ]
     },
     "execution_count": 36,
     "metadata": {},
     "output_type": "execute_result"
    }
   ],
   "source": [
    "hwy.std()\n",
    "#표준편차"
   ]
  },
  {
   "cell_type": "code",
   "execution_count": 38,
   "id": "55bcdc32",
   "metadata": {},
   "outputs": [
    {
     "data": {
      "text/plain": [
       "27.0"
      ]
     },
     "execution_count": 38,
     "metadata": {},
     "output_type": "execute_result"
    }
   ],
   "source": [
    "hwy.quantile(0.75)\n",
    "#분위수"
   ]
  },
  {
   "cell_type": "markdown",
   "id": "c58a3a6f",
   "metadata": {},
   "source": [
    "- replace\n",
    "- 객체 내 값을 다른 값으로 변경\n",
    "- data.replace(to_replace, value, inplace..)\n",
    "- to_replace는 변경될 값, value는 변경할 값"
   ]
  },
  {
   "cell_type": "code",
   "execution_count": 39,
   "id": "b696e643",
   "metadata": {},
   "outputs": [
    {
     "data": {
      "text/plain": [
       "0             aaa\n",
       "1             aaa\n",
       "2             aaa\n",
       "3             aaa\n",
       "4             aaa\n",
       "          ...    \n",
       "229    volkswagen\n",
       "230    volkswagen\n",
       "231    volkswagen\n",
       "232    volkswagen\n",
       "233    volkswagen\n",
       "Name: manufacturer, Length: 234, dtype: object"
      ]
     },
     "execution_count": 39,
     "metadata": {},
     "output_type": "execute_result"
    }
   ],
   "source": [
    "manu.replace(to_replace='audi', value='aaa', inplace=False)\n",
    "#to_replace에 해당하는 값을 가진 데이터는 다 변경됨"
   ]
  },
  {
   "cell_type": "code",
   "execution_count": 41,
   "id": "989e5ccc",
   "metadata": {},
   "outputs": [
    {
     "data": {
      "text/plain": [
       "0      aaa\n",
       "1      aaa\n",
       "2      aaa\n",
       "3      aaa\n",
       "4      aaa\n",
       "      ... \n",
       "229    aaa\n",
       "230    aaa\n",
       "231    aaa\n",
       "232    aaa\n",
       "233    aaa\n",
       "Name: manufacturer, Length: 234, dtype: object"
      ]
     },
     "execution_count": 41,
     "metadata": {},
     "output_type": "execute_result"
    }
   ],
   "source": [
    "manu.replace(to_replace=['audi', 'volkswagen'], value='aaa', inplace=False)\n",
    "#리스트로 입력하면 여러값 동시에 변경 가능"
   ]
  },
  {
   "cell_type": "code",
   "execution_count": 42,
   "id": "abd360a5",
   "metadata": {},
   "outputs": [
    {
     "data": {
      "text/plain": [
       "0      aaa\n",
       "1      aaa\n",
       "2      aaa\n",
       "3      aaa\n",
       "4      aaa\n",
       "      ... \n",
       "229    bbb\n",
       "230    bbb\n",
       "231    bbb\n",
       "232    bbb\n",
       "233    bbb\n",
       "Name: manufacturer, Length: 234, dtype: object"
      ]
     },
     "execution_count": 42,
     "metadata": {},
     "output_type": "execute_result"
    }
   ],
   "source": [
    "manu.replace(to_replace=['audi', 'volkswagen'], value=['aaa', 'bbb'], inplace=False)\n",
    "#to_replace와 value가 같은 길이의 리스트면 각각 순서대로 변경"
   ]
  },
  {
   "cell_type": "markdown",
   "id": "2a6b1344",
   "metadata": {},
   "source": [
    "- sort_values\n",
    "- 값을 오름차순, 내림차순으로 정렬함"
   ]
  },
  {
   "cell_type": "code",
   "execution_count": 5,
   "id": "823e757d",
   "metadata": {},
   "outputs": [
    {
     "data": {
      "text/plain": [
       "0      29\n",
       "1      29\n",
       "2      31\n",
       "3      30\n",
       "4      26\n",
       "       ..\n",
       "229    28\n",
       "230    29\n",
       "231    26\n",
       "232    26\n",
       "233    26\n",
       "Name: hwy, Length: 234, dtype: int64"
      ]
     },
     "execution_count": 5,
     "metadata": {},
     "output_type": "execute_result"
    }
   ],
   "source": [
    "hwy"
   ]
  },
  {
   "cell_type": "code",
   "execution_count": 6,
   "id": "311abd01",
   "metadata": {},
   "outputs": [
    {
     "data": {
      "text/plain": [
       "221    44\n",
       "212    44\n",
       "222    41\n",
       "196    37\n",
       "105    36\n",
       "       ..\n",
       "65     12\n",
       "59     12\n",
       "126    12\n",
       "69     12\n",
       "54     12\n",
       "Name: hwy, Length: 234, dtype: int64"
      ]
     },
     "execution_count": 6,
     "metadata": {},
     "output_type": "execute_result"
    }
   ],
   "source": [
    "hwy.sort_values(ascending=False)"
   ]
  },
  {
   "cell_type": "code",
   "execution_count": 7,
   "id": "498815ab",
   "metadata": {},
   "outputs": [
    {
     "data": {
      "text/plain": [
       "54     12\n",
       "65     12\n",
       "126    12\n",
       "69     12\n",
       "59     12\n",
       "       ..\n",
       "106    36\n",
       "196    37\n",
       "222    41\n",
       "212    44\n",
       "221    44\n",
       "Name: hwy, Length: 234, dtype: int64"
      ]
     },
     "execution_count": 7,
     "metadata": {},
     "output_type": "execute_result"
    }
   ],
   "source": [
    "hwy.sort_values(ascending=True)"
   ]
  },
  {
   "cell_type": "code",
   "execution_count": 8,
   "id": "d5701108",
   "metadata": {},
   "outputs": [
    {
     "data": {
      "text/plain": [
       "233    26\n",
       "232    26\n",
       "231    26\n",
       "230    29\n",
       "229    28\n",
       "       ..\n",
       "4      26\n",
       "3      30\n",
       "2      31\n",
       "1      29\n",
       "0      29\n",
       "Name: hwy, Length: 234, dtype: int64"
      ]
     },
     "execution_count": 8,
     "metadata": {},
     "output_type": "execute_result"
    }
   ],
   "source": [
    "hwy.sort_index(ascending=False)"
   ]
  },
  {
   "cell_type": "markdown",
   "id": "ac006c67",
   "metadata": {},
   "source": [
    "- to_frame()\n",
    "- 시리즈를 데이터프레임으로 변환"
   ]
  },
  {
   "cell_type": "code",
   "execution_count": 54,
   "id": "1f24f2a1",
   "metadata": {},
   "outputs": [
    {
     "data": {
      "text/html": [
       "<div>\n",
       "<style scoped>\n",
       "    .dataframe tbody tr th:only-of-type {\n",
       "        vertical-align: middle;\n",
       "    }\n",
       "\n",
       "    .dataframe tbody tr th {\n",
       "        vertical-align: top;\n",
       "    }\n",
       "\n",
       "    .dataframe thead th {\n",
       "        text-align: right;\n",
       "    }\n",
       "</style>\n",
       "<table border=\"1\" class=\"dataframe\">\n",
       "  <thead>\n",
       "    <tr style=\"text-align: right;\">\n",
       "      <th></th>\n",
       "      <th>manufacturer</th>\n",
       "    </tr>\n",
       "  </thead>\n",
       "  <tbody>\n",
       "    <tr>\n",
       "      <th>0</th>\n",
       "      <td>audi</td>\n",
       "    </tr>\n",
       "    <tr>\n",
       "      <th>1</th>\n",
       "      <td>audi</td>\n",
       "    </tr>\n",
       "    <tr>\n",
       "      <th>2</th>\n",
       "      <td>audi</td>\n",
       "    </tr>\n",
       "    <tr>\n",
       "      <th>3</th>\n",
       "      <td>audi</td>\n",
       "    </tr>\n",
       "    <tr>\n",
       "      <th>4</th>\n",
       "      <td>audi</td>\n",
       "    </tr>\n",
       "    <tr>\n",
       "      <th>...</th>\n",
       "      <td>...</td>\n",
       "    </tr>\n",
       "    <tr>\n",
       "      <th>229</th>\n",
       "      <td>volkswagen</td>\n",
       "    </tr>\n",
       "    <tr>\n",
       "      <th>230</th>\n",
       "      <td>volkswagen</td>\n",
       "    </tr>\n",
       "    <tr>\n",
       "      <th>231</th>\n",
       "      <td>volkswagen</td>\n",
       "    </tr>\n",
       "    <tr>\n",
       "      <th>232</th>\n",
       "      <td>volkswagen</td>\n",
       "    </tr>\n",
       "    <tr>\n",
       "      <th>233</th>\n",
       "      <td>volkswagen</td>\n",
       "    </tr>\n",
       "  </tbody>\n",
       "</table>\n",
       "<p>234 rows × 1 columns</p>\n",
       "</div>"
      ],
      "text/plain": [
       "    manufacturer\n",
       "0           audi\n",
       "1           audi\n",
       "2           audi\n",
       "3           audi\n",
       "4           audi\n",
       "..           ...\n",
       "229   volkswagen\n",
       "230   volkswagen\n",
       "231   volkswagen\n",
       "232   volkswagen\n",
       "233   volkswagen\n",
       "\n",
       "[234 rows x 1 columns]"
      ]
     },
     "execution_count": 54,
     "metadata": {},
     "output_type": "execute_result"
    }
   ],
   "source": [
    "manu.to_frame()"
   ]
  },
  {
   "cell_type": "code",
   "execution_count": 55,
   "id": "a91ea224",
   "metadata": {},
   "outputs": [
    {
     "data": {
      "text/html": [
       "<div>\n",
       "<style scoped>\n",
       "    .dataframe tbody tr th:only-of-type {\n",
       "        vertical-align: middle;\n",
       "    }\n",
       "\n",
       "    .dataframe tbody tr th {\n",
       "        vertical-align: top;\n",
       "    }\n",
       "\n",
       "    .dataframe thead th {\n",
       "        text-align: right;\n",
       "    }\n",
       "</style>\n",
       "<table border=\"1\" class=\"dataframe\">\n",
       "  <thead>\n",
       "    <tr style=\"text-align: right;\">\n",
       "      <th></th>\n",
       "      <th>hwy</th>\n",
       "    </tr>\n",
       "  </thead>\n",
       "  <tbody>\n",
       "    <tr>\n",
       "      <th>0</th>\n",
       "      <td>29</td>\n",
       "    </tr>\n",
       "    <tr>\n",
       "      <th>1</th>\n",
       "      <td>29</td>\n",
       "    </tr>\n",
       "    <tr>\n",
       "      <th>2</th>\n",
       "      <td>31</td>\n",
       "    </tr>\n",
       "    <tr>\n",
       "      <th>3</th>\n",
       "      <td>30</td>\n",
       "    </tr>\n",
       "    <tr>\n",
       "      <th>4</th>\n",
       "      <td>26</td>\n",
       "    </tr>\n",
       "    <tr>\n",
       "      <th>...</th>\n",
       "      <td>...</td>\n",
       "    </tr>\n",
       "    <tr>\n",
       "      <th>229</th>\n",
       "      <td>28</td>\n",
       "    </tr>\n",
       "    <tr>\n",
       "      <th>230</th>\n",
       "      <td>29</td>\n",
       "    </tr>\n",
       "    <tr>\n",
       "      <th>231</th>\n",
       "      <td>26</td>\n",
       "    </tr>\n",
       "    <tr>\n",
       "      <th>232</th>\n",
       "      <td>26</td>\n",
       "    </tr>\n",
       "    <tr>\n",
       "      <th>233</th>\n",
       "      <td>26</td>\n",
       "    </tr>\n",
       "  </tbody>\n",
       "</table>\n",
       "<p>234 rows × 1 columns</p>\n",
       "</div>"
      ],
      "text/plain": [
       "     hwy\n",
       "0     29\n",
       "1     29\n",
       "2     31\n",
       "3     30\n",
       "4     26\n",
       "..   ...\n",
       "229   28\n",
       "230   29\n",
       "231   26\n",
       "232   26\n",
       "233   26\n",
       "\n",
       "[234 rows x 1 columns]"
      ]
     },
     "execution_count": 55,
     "metadata": {},
     "output_type": "execute_result"
    }
   ],
   "source": [
    "hwy.to_frame()"
   ]
  },
  {
   "cell_type": "code",
   "execution_count": null,
   "id": "e066bc84",
   "metadata": {},
   "outputs": [],
   "source": []
  }
 ],
 "metadata": {
  "kernelspec": {
   "display_name": "Python 3 (ipykernel)",
   "language": "python",
   "name": "python3"
  },
  "language_info": {
   "codemirror_mode": {
    "name": "ipython",
    "version": 3
   },
   "file_extension": ".py",
   "mimetype": "text/x-python",
   "name": "python",
   "nbconvert_exporter": "python",
   "pygments_lexer": "ipython3",
   "version": "3.9.7"
  }
 },
 "nbformat": 4,
 "nbformat_minor": 5
}
