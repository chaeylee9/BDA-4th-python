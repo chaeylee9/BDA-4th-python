{
 "cells": [
  {
   "cell_type": "markdown",
   "id": "165c7702",
   "metadata": {},
   "source": [
    "### 시계열 문법 추가"
   ]
  },
  {
   "cell_type": "markdown",
   "id": "0d36c60f",
   "metadata": {},
   "source": [
    "#### 1. date_range\n",
    "- 범위 내의 날짜나 시간을 인덱스로 생성해 주는 문법"
   ]
  },
  {
   "cell_type": "code",
   "execution_count": 1,
   "id": "cc47df0b",
   "metadata": {},
   "outputs": [],
   "source": [
    "import pandas as pd"
   ]
  },
  {
   "cell_type": "code",
   "execution_count": 3,
   "id": "e3af428b",
   "metadata": {},
   "outputs": [
    {
     "data": {
      "text/plain": [
       "DatetimeIndex(['2021-01-13', '2021-01-14', '2021-01-15', '2021-01-16',\n",
       "               '2021-01-17', '2021-01-18', '2021-01-19', '2021-01-20',\n",
       "               '2021-01-21', '2021-01-22',\n",
       "               ...\n",
       "               '2021-04-16', '2021-04-17', '2021-04-18', '2021-04-19',\n",
       "               '2021-04-20', '2021-04-21', '2021-04-22', '2021-04-23',\n",
       "               '2021-04-24', '2021-04-25'],\n",
       "              dtype='datetime64[ns]', length=103, freq='D')"
      ]
     },
     "execution_count": 3,
     "metadata": {},
     "output_type": "execute_result"
    }
   ],
   "source": [
    "pd.date_range('2021-01-13', '2021-04-25')\n",
    "#시작일과 종료일 입력"
   ]
  },
  {
   "cell_type": "code",
   "execution_count": 4,
   "id": "fcb50b69",
   "metadata": {},
   "outputs": [
    {
     "data": {
      "text/plain": [
       "DatetimeIndex(['2021-01-13', '2021-01-14', '2021-01-15', '2021-01-16',\n",
       "               '2021-01-17', '2021-01-18', '2021-01-19', '2021-01-20',\n",
       "               '2021-01-21', '2021-01-22', '2021-01-23', '2021-01-24',\n",
       "               '2021-01-25', '2021-01-26', '2021-01-27', '2021-01-28',\n",
       "               '2021-01-29', '2021-01-30', '2021-01-31', '2021-02-01',\n",
       "               '2021-02-02', '2021-02-03', '2021-02-04', '2021-02-05',\n",
       "               '2021-02-06', '2021-02-07', '2021-02-08', '2021-02-09',\n",
       "               '2021-02-10', '2021-02-11', '2021-02-12', '2021-02-13',\n",
       "               '2021-02-14', '2021-02-15', '2021-02-16', '2021-02-17',\n",
       "               '2021-02-18', '2021-02-19', '2021-02-20', '2021-02-21',\n",
       "               '2021-02-22', '2021-02-23', '2021-02-24', '2021-02-25',\n",
       "               '2021-02-26', '2021-02-27', '2021-02-28', '2021-03-01',\n",
       "               '2021-03-02', '2021-03-03', '2021-03-04', '2021-03-05',\n",
       "               '2021-03-06', '2021-03-07', '2021-03-08', '2021-03-09',\n",
       "               '2021-03-10', '2021-03-11', '2021-03-12', '2021-03-13',\n",
       "               '2021-03-14', '2021-03-15', '2021-03-16', '2021-03-17',\n",
       "               '2021-03-18', '2021-03-19', '2021-03-20', '2021-03-21',\n",
       "               '2021-03-22', '2021-03-23', '2021-03-24', '2021-03-25',\n",
       "               '2021-03-26', '2021-03-27', '2021-03-28', '2021-03-29',\n",
       "               '2021-03-30', '2021-03-31', '2021-04-01', '2021-04-02',\n",
       "               '2021-04-03', '2021-04-04', '2021-04-05', '2021-04-06',\n",
       "               '2021-04-07', '2021-04-08', '2021-04-09', '2021-04-10',\n",
       "               '2021-04-11', '2021-04-12', '2021-04-13', '2021-04-14',\n",
       "               '2021-04-15', '2021-04-16', '2021-04-17', '2021-04-18',\n",
       "               '2021-04-19', '2021-04-20', '2021-04-21', '2021-04-22'],\n",
       "              dtype='datetime64[ns]', freq='D')"
      ]
     },
     "execution_count": 4,
     "metadata": {},
     "output_type": "execute_result"
    }
   ],
   "source": [
    "pd.date_range('2021-01-13', periods=100)"
   ]
  },
  {
   "cell_type": "code",
   "execution_count": 6,
   "id": "02d3d179",
   "metadata": {},
   "outputs": [
    {
     "data": {
      "text/plain": [
       "DatetimeIndex(['2021-01-13 00:00:00', '2021-01-13 00:00:01',\n",
       "               '2021-01-13 00:00:02', '2021-01-13 00:00:03',\n",
       "               '2021-01-13 00:00:04', '2021-01-13 00:00:05',\n",
       "               '2021-01-13 00:00:06', '2021-01-13 00:00:07',\n",
       "               '2021-01-13 00:00:08', '2021-01-13 00:00:09',\n",
       "               '2021-01-13 00:00:10', '2021-01-13 00:00:11',\n",
       "               '2021-01-13 00:00:12', '2021-01-13 00:00:13',\n",
       "               '2021-01-13 00:00:14', '2021-01-13 00:00:15',\n",
       "               '2021-01-13 00:00:16', '2021-01-13 00:00:17',\n",
       "               '2021-01-13 00:00:18', '2021-01-13 00:00:19',\n",
       "               '2021-01-13 00:00:20', '2021-01-13 00:00:21',\n",
       "               '2021-01-13 00:00:22', '2021-01-13 00:00:23',\n",
       "               '2021-01-13 00:00:24', '2021-01-13 00:00:25',\n",
       "               '2021-01-13 00:00:26', '2021-01-13 00:00:27',\n",
       "               '2021-01-13 00:00:28', '2021-01-13 00:00:29'],\n",
       "              dtype='datetime64[ns]', freq='S')"
      ]
     },
     "execution_count": 6,
     "metadata": {},
     "output_type": "execute_result"
    }
   ],
   "source": [
    "pd.date_range('2021-01-13', periods=30, freq='s')\n",
    "#freq 인수로 일, 시간, 분 등 가능"
   ]
  },
  {
   "cell_type": "code",
   "execution_count": 7,
   "id": "eda20d15",
   "metadata": {},
   "outputs": [
    {
     "data": {
      "text/plain": [
       "DatetimeIndex(['2021-01-13', '2021-01-14', '2021-01-15', '2021-01-18',\n",
       "               '2021-01-19', '2021-01-20', '2021-01-21', '2021-01-22',\n",
       "               '2021-01-25', '2021-01-26', '2021-01-27', '2021-01-28',\n",
       "               '2021-01-29', '2021-02-01', '2021-02-02', '2021-02-03',\n",
       "               '2021-02-04', '2021-02-05', '2021-02-08', '2021-02-09',\n",
       "               '2021-02-10', '2021-02-11', '2021-02-12', '2021-02-15',\n",
       "               '2021-02-16', '2021-02-17', '2021-02-18', '2021-02-19',\n",
       "               '2021-02-22', '2021-02-23'],\n",
       "              dtype='datetime64[ns]', freq='B')"
      ]
     },
     "execution_count": 7,
     "metadata": {},
     "output_type": "execute_result"
    }
   ],
   "source": [
    "pd.date_range('2021-01-13', periods=30, freq='B')\n",
    "#평일만"
   ]
  },
  {
   "cell_type": "markdown",
   "id": "7590ea4a",
   "metadata": {},
   "source": [
    "#### 2. resample"
   ]
  },
  {
   "cell_type": "code",
   "execution_count": 8,
   "id": "93a169d5",
   "metadata": {},
   "outputs": [],
   "source": [
    "import numpy as np"
   ]
  },
  {
   "cell_type": "code",
   "execution_count": 9,
   "id": "62a37566",
   "metadata": {},
   "outputs": [],
   "source": [
    "df = pd.Series(np.random.rand(30), index = pd.date_range('2021-01-13',\n",
    "                                                        periods=30))"
   ]
  },
  {
   "cell_type": "code",
   "execution_count": 10,
   "id": "7a7689b5",
   "metadata": {},
   "outputs": [
    {
     "data": {
      "text/plain": [
       "2021-01-13    0.795711\n",
       "2021-01-14    0.463661\n",
       "2021-01-15    0.261103\n",
       "2021-01-16    0.325329\n",
       "2021-01-17    0.154834\n",
       "2021-01-18    0.842327\n",
       "2021-01-19    0.977852\n",
       "2021-01-20    0.508424\n",
       "2021-01-21    0.566708\n",
       "2021-01-22    0.741772\n",
       "2021-01-23    0.052152\n",
       "2021-01-24    0.114302\n",
       "2021-01-25    0.288485\n",
       "2021-01-26    0.072231\n",
       "2021-01-27    0.703929\n",
       "2021-01-28    0.496182\n",
       "2021-01-29    0.782238\n",
       "2021-01-30    0.003508\n",
       "2021-01-31    0.384616\n",
       "2021-02-01    0.764531\n",
       "2021-02-02    0.288186\n",
       "2021-02-03    0.609484\n",
       "2021-02-04    0.111419\n",
       "2021-02-05    0.652115\n",
       "2021-02-06    0.822353\n",
       "2021-02-07    0.386186\n",
       "2021-02-08    0.948615\n",
       "2021-02-09    0.843993\n",
       "2021-02-10    0.865983\n",
       "2021-02-11    0.984981\n",
       "Freq: D, dtype: float64"
      ]
     },
     "execution_count": 10,
     "metadata": {},
     "output_type": "execute_result"
    }
   ],
   "source": [
    "df"
   ]
  },
  {
   "cell_type": "code",
   "execution_count": 11,
   "id": "79f93350",
   "metadata": {},
   "outputs": [
    {
     "data": {
      "text/plain": [
       "2021-01-17    0.400127\n",
       "2021-01-24    0.543362\n",
       "2021-01-31    0.390170\n",
       "2021-02-07    0.519182\n",
       "2021-02-14    0.910893\n",
       "Freq: W-SUN, dtype: float64"
      ]
     },
     "execution_count": 11,
     "metadata": {},
     "output_type": "execute_result"
    }
   ],
   "source": [
    "#일 단위의 df 인덱스를 주 단위로\n",
    "#값은 평균으로 대표\n",
    "df.resample('W').mean()"
   ]
  },
  {
   "cell_type": "code",
   "execution_count": 12,
   "id": "4b272bd1",
   "metadata": {},
   "outputs": [
    {
     "data": {
      "text/plain": [
       "2021-01-31    0.449230\n",
       "2021-02-28    0.661622\n",
       "Freq: M, dtype: float64"
      ]
     },
     "execution_count": 12,
     "metadata": {},
     "output_type": "execute_result"
    }
   ],
   "source": [
    "df.resample('M').mean()"
   ]
  },
  {
   "cell_type": "code",
   "execution_count": 13,
   "id": "979f690e",
   "metadata": {},
   "outputs": [
    {
     "data": {
      "text/html": [
       "<div>\n",
       "<style scoped>\n",
       "    .dataframe tbody tr th:only-of-type {\n",
       "        vertical-align: middle;\n",
       "    }\n",
       "\n",
       "    .dataframe tbody tr th {\n",
       "        vertical-align: top;\n",
       "    }\n",
       "\n",
       "    .dataframe thead th {\n",
       "        text-align: right;\n",
       "    }\n",
       "</style>\n",
       "<table border=\"1\" class=\"dataframe\">\n",
       "  <thead>\n",
       "    <tr style=\"text-align: right;\">\n",
       "      <th></th>\n",
       "      <th>open</th>\n",
       "      <th>high</th>\n",
       "      <th>low</th>\n",
       "      <th>close</th>\n",
       "    </tr>\n",
       "  </thead>\n",
       "  <tbody>\n",
       "    <tr>\n",
       "      <th>2021-01-17</th>\n",
       "      <td>0.795711</td>\n",
       "      <td>0.795711</td>\n",
       "      <td>0.154834</td>\n",
       "      <td>0.154834</td>\n",
       "    </tr>\n",
       "    <tr>\n",
       "      <th>2021-01-24</th>\n",
       "      <td>0.842327</td>\n",
       "      <td>0.977852</td>\n",
       "      <td>0.052152</td>\n",
       "      <td>0.114302</td>\n",
       "    </tr>\n",
       "    <tr>\n",
       "      <th>2021-01-31</th>\n",
       "      <td>0.288485</td>\n",
       "      <td>0.782238</td>\n",
       "      <td>0.003508</td>\n",
       "      <td>0.384616</td>\n",
       "    </tr>\n",
       "    <tr>\n",
       "      <th>2021-02-07</th>\n",
       "      <td>0.764531</td>\n",
       "      <td>0.822353</td>\n",
       "      <td>0.111419</td>\n",
       "      <td>0.386186</td>\n",
       "    </tr>\n",
       "    <tr>\n",
       "      <th>2021-02-14</th>\n",
       "      <td>0.948615</td>\n",
       "      <td>0.984981</td>\n",
       "      <td>0.843993</td>\n",
       "      <td>0.984981</td>\n",
       "    </tr>\n",
       "  </tbody>\n",
       "</table>\n",
       "</div>"
      ],
      "text/plain": [
       "                open      high       low     close\n",
       "2021-01-17  0.795711  0.795711  0.154834  0.154834\n",
       "2021-01-24  0.842327  0.977852  0.052152  0.114302\n",
       "2021-01-31  0.288485  0.782238  0.003508  0.384616\n",
       "2021-02-07  0.764531  0.822353  0.111419  0.386186\n",
       "2021-02-14  0.948615  0.984981  0.843993  0.984981"
      ]
     },
     "execution_count": 13,
     "metadata": {},
     "output_type": "execute_result"
    }
   ],
   "source": [
    "df.resample('W').ohlc()\n",
    "#좁혀진 구간의 시작, 최대, 최소, 종료값을 구함"
   ]
  },
  {
   "cell_type": "code",
   "execution_count": 18,
   "id": "6ccd1b21",
   "metadata": {},
   "outputs": [
    {
     "data": {
      "text/plain": [
       "2021-01-13 00:00:00    0.795711\n",
       "2021-01-13 12:00:00    0.795711\n",
       "2021-01-14 00:00:00    0.463661\n",
       "2021-01-14 12:00:00    0.463661\n",
       "2021-01-15 00:00:00    0.261103\n",
       "2021-01-15 12:00:00    0.261103\n",
       "2021-01-16 00:00:00    0.325329\n",
       "2021-01-16 12:00:00    0.325329\n",
       "2021-01-17 00:00:00    0.154834\n",
       "2021-01-17 12:00:00    0.154834\n",
       "2021-01-18 00:00:00    0.842327\n",
       "2021-01-18 12:00:00    0.842327\n",
       "2021-01-19 00:00:00    0.977852\n",
       "2021-01-19 12:00:00    0.977852\n",
       "2021-01-20 00:00:00    0.508424\n",
       "2021-01-20 12:00:00    0.508424\n",
       "2021-01-21 00:00:00    0.566708\n",
       "2021-01-21 12:00:00    0.566708\n",
       "2021-01-22 00:00:00    0.741772\n",
       "2021-01-22 12:00:00    0.741772\n",
       "Freq: 12H, dtype: float64"
      ]
     },
     "execution_count": 18,
     "metadata": {},
     "output_type": "execute_result"
    }
   ],
   "source": [
    "df.resample('12H').ffill().head(20)\n",
    "#간격을 넓히려면 앞, 뒤 값으로 새로운 인덱스 채워야함"
   ]
  },
  {
   "cell_type": "markdown",
   "id": "57c27821",
   "metadata": {},
   "source": [
    "#### 3. dt 접근자"
   ]
  },
  {
   "cell_type": "code",
   "execution_count": 22,
   "id": "6ed5c233",
   "metadata": {},
   "outputs": [],
   "source": [
    "crime = pd.read_csv('crime.csv')"
   ]
  },
  {
   "cell_type": "code",
   "execution_count": 23,
   "id": "46c10ba9",
   "metadata": {},
   "outputs": [
    {
     "data": {
      "text/html": [
       "<div>\n",
       "<style scoped>\n",
       "    .dataframe tbody tr th:only-of-type {\n",
       "        vertical-align: middle;\n",
       "    }\n",
       "\n",
       "    .dataframe tbody tr th {\n",
       "        vertical-align: top;\n",
       "    }\n",
       "\n",
       "    .dataframe thead th {\n",
       "        text-align: right;\n",
       "    }\n",
       "</style>\n",
       "<table border=\"1\" class=\"dataframe\">\n",
       "  <thead>\n",
       "    <tr style=\"text-align: right;\">\n",
       "      <th></th>\n",
       "      <th>Unnamed: 0</th>\n",
       "      <th>OFFENSE_TYPE_ID</th>\n",
       "      <th>OFFENSE_CATEGORY_ID</th>\n",
       "      <th>REPORTED_DATE</th>\n",
       "      <th>GEO_LON</th>\n",
       "      <th>GEO_LAT</th>\n",
       "      <th>NEIGHBORHOOD_ID</th>\n",
       "      <th>IS_CRIME</th>\n",
       "      <th>IS_TRAFFIC</th>\n",
       "    </tr>\n",
       "  </thead>\n",
       "  <tbody>\n",
       "    <tr>\n",
       "      <th>0</th>\n",
       "      <td>0</td>\n",
       "      <td>traffic-accident-dui-duid</td>\n",
       "      <td>traffic-accident</td>\n",
       "      <td>2014-06-29 02:01:00</td>\n",
       "      <td>-105.000149</td>\n",
       "      <td>39.745753</td>\n",
       "      <td>cbd</td>\n",
       "      <td>0</td>\n",
       "      <td>1</td>\n",
       "    </tr>\n",
       "    <tr>\n",
       "      <th>1</th>\n",
       "      <td>1</td>\n",
       "      <td>vehicular-eluding-no-chase</td>\n",
       "      <td>all-other-crimes</td>\n",
       "      <td>2014-06-29 01:54:00</td>\n",
       "      <td>-104.884660</td>\n",
       "      <td>39.738702</td>\n",
       "      <td>east-colfax</td>\n",
       "      <td>1</td>\n",
       "      <td>0</td>\n",
       "    </tr>\n",
       "    <tr>\n",
       "      <th>2</th>\n",
       "      <td>2</td>\n",
       "      <td>disturbing-the-peace</td>\n",
       "      <td>public-disorder</td>\n",
       "      <td>2014-06-29 02:00:00</td>\n",
       "      <td>-105.020719</td>\n",
       "      <td>39.706674</td>\n",
       "      <td>athmar-park</td>\n",
       "      <td>1</td>\n",
       "      <td>0</td>\n",
       "    </tr>\n",
       "    <tr>\n",
       "      <th>3</th>\n",
       "      <td>3</td>\n",
       "      <td>curfew</td>\n",
       "      <td>public-disorder</td>\n",
       "      <td>2014-06-29 02:18:00</td>\n",
       "      <td>-105.001552</td>\n",
       "      <td>39.769505</td>\n",
       "      <td>sunnyside</td>\n",
       "      <td>1</td>\n",
       "      <td>0</td>\n",
       "    </tr>\n",
       "    <tr>\n",
       "      <th>4</th>\n",
       "      <td>4</td>\n",
       "      <td>aggravated-assault</td>\n",
       "      <td>aggravated-assault</td>\n",
       "      <td>2014-06-29 04:17:00</td>\n",
       "      <td>-105.018557</td>\n",
       "      <td>39.679229</td>\n",
       "      <td>college-view-south-platte</td>\n",
       "      <td>1</td>\n",
       "      <td>0</td>\n",
       "    </tr>\n",
       "    <tr>\n",
       "      <th>...</th>\n",
       "      <td>...</td>\n",
       "      <td>...</td>\n",
       "      <td>...</td>\n",
       "      <td>...</td>\n",
       "      <td>...</td>\n",
       "      <td>...</td>\n",
       "      <td>...</td>\n",
       "      <td>...</td>\n",
       "      <td>...</td>\n",
       "    </tr>\n",
       "    <tr>\n",
       "      <th>460906</th>\n",
       "      <td>460906</td>\n",
       "      <td>burglary-business-by-force</td>\n",
       "      <td>burglary</td>\n",
       "      <td>2017-09-13 05:48:00</td>\n",
       "      <td>-105.033840</td>\n",
       "      <td>39.762365</td>\n",
       "      <td>west-highland</td>\n",
       "      <td>1</td>\n",
       "      <td>0</td>\n",
       "    </tr>\n",
       "    <tr>\n",
       "      <th>460907</th>\n",
       "      <td>460907</td>\n",
       "      <td>weapon-unlawful-discharge-of</td>\n",
       "      <td>all-other-crimes</td>\n",
       "      <td>2017-09-12 20:37:00</td>\n",
       "      <td>-105.040313</td>\n",
       "      <td>39.721264</td>\n",
       "      <td>barnum-west</td>\n",
       "      <td>1</td>\n",
       "      <td>0</td>\n",
       "    </tr>\n",
       "    <tr>\n",
       "      <th>460908</th>\n",
       "      <td>460908</td>\n",
       "      <td>traf-habitual-offender</td>\n",
       "      <td>all-other-crimes</td>\n",
       "      <td>2017-09-12 16:32:00</td>\n",
       "      <td>-104.847024</td>\n",
       "      <td>39.779596</td>\n",
       "      <td>montbello</td>\n",
       "      <td>1</td>\n",
       "      <td>0</td>\n",
       "    </tr>\n",
       "    <tr>\n",
       "      <th>460909</th>\n",
       "      <td>460909</td>\n",
       "      <td>criminal-mischief-other</td>\n",
       "      <td>public-disorder</td>\n",
       "      <td>2017-09-12 13:04:00</td>\n",
       "      <td>-104.949183</td>\n",
       "      <td>39.756353</td>\n",
       "      <td>skyland</td>\n",
       "      <td>1</td>\n",
       "      <td>0</td>\n",
       "    </tr>\n",
       "    <tr>\n",
       "      <th>460910</th>\n",
       "      <td>460910</td>\n",
       "      <td>theft-other</td>\n",
       "      <td>larceny</td>\n",
       "      <td>2017-09-12 09:30:00</td>\n",
       "      <td>-104.985739</td>\n",
       "      <td>39.735045</td>\n",
       "      <td>capitol-hill</td>\n",
       "      <td>1</td>\n",
       "      <td>0</td>\n",
       "    </tr>\n",
       "  </tbody>\n",
       "</table>\n",
       "<p>460911 rows × 9 columns</p>\n",
       "</div>"
      ],
      "text/plain": [
       "        Unnamed: 0               OFFENSE_TYPE_ID OFFENSE_CATEGORY_ID  \\\n",
       "0                0     traffic-accident-dui-duid    traffic-accident   \n",
       "1                1    vehicular-eluding-no-chase    all-other-crimes   \n",
       "2                2          disturbing-the-peace     public-disorder   \n",
       "3                3                        curfew     public-disorder   \n",
       "4                4            aggravated-assault  aggravated-assault   \n",
       "...            ...                           ...                 ...   \n",
       "460906      460906    burglary-business-by-force            burglary   \n",
       "460907      460907  weapon-unlawful-discharge-of    all-other-crimes   \n",
       "460908      460908        traf-habitual-offender    all-other-crimes   \n",
       "460909      460909       criminal-mischief-other     public-disorder   \n",
       "460910      460910                   theft-other             larceny   \n",
       "\n",
       "              REPORTED_DATE     GEO_LON    GEO_LAT            NEIGHBORHOOD_ID  \\\n",
       "0       2014-06-29 02:01:00 -105.000149  39.745753                        cbd   \n",
       "1       2014-06-29 01:54:00 -104.884660  39.738702                east-colfax   \n",
       "2       2014-06-29 02:00:00 -105.020719  39.706674                athmar-park   \n",
       "3       2014-06-29 02:18:00 -105.001552  39.769505                  sunnyside   \n",
       "4       2014-06-29 04:17:00 -105.018557  39.679229  college-view-south-platte   \n",
       "...                     ...         ...        ...                        ...   \n",
       "460906  2017-09-13 05:48:00 -105.033840  39.762365              west-highland   \n",
       "460907  2017-09-12 20:37:00 -105.040313  39.721264                barnum-west   \n",
       "460908  2017-09-12 16:32:00 -104.847024  39.779596                  montbello   \n",
       "460909  2017-09-12 13:04:00 -104.949183  39.756353                    skyland   \n",
       "460910  2017-09-12 09:30:00 -104.985739  39.735045               capitol-hill   \n",
       "\n",
       "        IS_CRIME  IS_TRAFFIC  \n",
       "0              0           1  \n",
       "1              1           0  \n",
       "2              1           0  \n",
       "3              1           0  \n",
       "4              1           0  \n",
       "...          ...         ...  \n",
       "460906         1           0  \n",
       "460907         1           0  \n",
       "460908         1           0  \n",
       "460909         1           0  \n",
       "460910         1           0  \n",
       "\n",
       "[460911 rows x 9 columns]"
      ]
     },
     "execution_count": 23,
     "metadata": {},
     "output_type": "execute_result"
    }
   ],
   "source": [
    "crime"
   ]
  },
  {
   "cell_type": "code",
   "execution_count": 30,
   "id": "04537f35",
   "metadata": {},
   "outputs": [],
   "source": [
    "crime_date = pd.to_datetime(crime['REPORTED_DATE'])"
   ]
  },
  {
   "cell_type": "code",
   "execution_count": 32,
   "id": "f265fb7a",
   "metadata": {},
   "outputs": [
    {
     "data": {
      "text/plain": [
       "0         2014\n",
       "1         2014\n",
       "2         2014\n",
       "3         2014\n",
       "4         2014\n",
       "          ... \n",
       "460906    2017\n",
       "460907    2017\n",
       "460908    2017\n",
       "460909    2017\n",
       "460910    2017\n",
       "Name: REPORTED_DATE, Length: 460911, dtype: int64"
      ]
     },
     "execution_count": 32,
     "metadata": {},
     "output_type": "execute_result"
    }
   ],
   "source": [
    "crime_date.dt.year\n",
    "#datetime 자료형의 접근자\n",
    "#년, 월, 일 등의 정보를 추출할 수 있음"
   ]
  },
  {
   "cell_type": "code",
   "execution_count": 35,
   "id": "6691c409",
   "metadata": {},
   "outputs": [
    {
     "data": {
      "text/plain": [
       "array([2014, 2013, 2012, 2016, 2015, 2017], dtype=int64)"
      ]
     },
     "execution_count": 35,
     "metadata": {},
     "output_type": "execute_result"
    }
   ],
   "source": [
    "crime_date.dt.year.unique()"
   ]
  },
  {
   "cell_type": "code",
   "execution_count": 36,
   "id": "51a0dfdf",
   "metadata": {},
   "outputs": [
    {
     "data": {
      "text/plain": [
       "0         2014년 06월 29일\n",
       "1         2014년 06월 29일\n",
       "2         2014년 06월 29일\n",
       "3         2014년 06월 29일\n",
       "4         2014년 06월 29일\n",
       "              ...      \n",
       "460906    2017년 09월 13일\n",
       "460907    2017년 09월 12일\n",
       "460908    2017년 09월 12일\n",
       "460909    2017년 09월 12일\n",
       "460910    2017년 09월 12일\n",
       "Name: REPORTED_DATE, Length: 460911, dtype: object"
      ]
     },
     "execution_count": 36,
     "metadata": {},
     "output_type": "execute_result"
    }
   ],
   "source": [
    "crime_date.dt.strftime('%Y년 %m월 %d일')\n",
    "#srtftime으로 원하는 형태의 문자열을 만들 수 있음"
   ]
  },
  {
   "cell_type": "markdown",
   "id": "0d10ff25",
   "metadata": {},
   "source": [
    "#### 4. shift"
   ]
  },
  {
   "cell_type": "code",
   "execution_count": 37,
   "id": "9b2a45f0",
   "metadata": {},
   "outputs": [
    {
     "data": {
      "text/html": [
       "<div>\n",
       "<style scoped>\n",
       "    .dataframe tbody tr th:only-of-type {\n",
       "        vertical-align: middle;\n",
       "    }\n",
       "\n",
       "    .dataframe tbody tr th {\n",
       "        vertical-align: top;\n",
       "    }\n",
       "\n",
       "    .dataframe thead th {\n",
       "        text-align: right;\n",
       "    }\n",
       "</style>\n",
       "<table border=\"1\" class=\"dataframe\">\n",
       "  <thead>\n",
       "    <tr style=\"text-align: right;\">\n",
       "      <th></th>\n",
       "      <th>Unnamed: 0</th>\n",
       "      <th>OFFENSE_TYPE_ID</th>\n",
       "      <th>OFFENSE_CATEGORY_ID</th>\n",
       "      <th>REPORTED_DATE</th>\n",
       "      <th>GEO_LON</th>\n",
       "      <th>GEO_LAT</th>\n",
       "      <th>NEIGHBORHOOD_ID</th>\n",
       "      <th>IS_CRIME</th>\n",
       "      <th>IS_TRAFFIC</th>\n",
       "    </tr>\n",
       "  </thead>\n",
       "  <tbody>\n",
       "    <tr>\n",
       "      <th>0</th>\n",
       "      <td>0</td>\n",
       "      <td>traffic-accident-dui-duid</td>\n",
       "      <td>traffic-accident</td>\n",
       "      <td>2014-06-29 02:01:00</td>\n",
       "      <td>-105.000149</td>\n",
       "      <td>39.745753</td>\n",
       "      <td>cbd</td>\n",
       "      <td>0</td>\n",
       "      <td>1</td>\n",
       "    </tr>\n",
       "    <tr>\n",
       "      <th>1</th>\n",
       "      <td>1</td>\n",
       "      <td>vehicular-eluding-no-chase</td>\n",
       "      <td>all-other-crimes</td>\n",
       "      <td>2014-06-29 01:54:00</td>\n",
       "      <td>-104.884660</td>\n",
       "      <td>39.738702</td>\n",
       "      <td>east-colfax</td>\n",
       "      <td>1</td>\n",
       "      <td>0</td>\n",
       "    </tr>\n",
       "    <tr>\n",
       "      <th>2</th>\n",
       "      <td>2</td>\n",
       "      <td>disturbing-the-peace</td>\n",
       "      <td>public-disorder</td>\n",
       "      <td>2014-06-29 02:00:00</td>\n",
       "      <td>-105.020719</td>\n",
       "      <td>39.706674</td>\n",
       "      <td>athmar-park</td>\n",
       "      <td>1</td>\n",
       "      <td>0</td>\n",
       "    </tr>\n",
       "    <tr>\n",
       "      <th>3</th>\n",
       "      <td>3</td>\n",
       "      <td>curfew</td>\n",
       "      <td>public-disorder</td>\n",
       "      <td>2014-06-29 02:18:00</td>\n",
       "      <td>-105.001552</td>\n",
       "      <td>39.769505</td>\n",
       "      <td>sunnyside</td>\n",
       "      <td>1</td>\n",
       "      <td>0</td>\n",
       "    </tr>\n",
       "    <tr>\n",
       "      <th>4</th>\n",
       "      <td>4</td>\n",
       "      <td>aggravated-assault</td>\n",
       "      <td>aggravated-assault</td>\n",
       "      <td>2014-06-29 04:17:00</td>\n",
       "      <td>-105.018557</td>\n",
       "      <td>39.679229</td>\n",
       "      <td>college-view-south-platte</td>\n",
       "      <td>1</td>\n",
       "      <td>0</td>\n",
       "    </tr>\n",
       "    <tr>\n",
       "      <th>...</th>\n",
       "      <td>...</td>\n",
       "      <td>...</td>\n",
       "      <td>...</td>\n",
       "      <td>...</td>\n",
       "      <td>...</td>\n",
       "      <td>...</td>\n",
       "      <td>...</td>\n",
       "      <td>...</td>\n",
       "      <td>...</td>\n",
       "    </tr>\n",
       "    <tr>\n",
       "      <th>460906</th>\n",
       "      <td>460906</td>\n",
       "      <td>burglary-business-by-force</td>\n",
       "      <td>burglary</td>\n",
       "      <td>2017-09-13 05:48:00</td>\n",
       "      <td>-105.033840</td>\n",
       "      <td>39.762365</td>\n",
       "      <td>west-highland</td>\n",
       "      <td>1</td>\n",
       "      <td>0</td>\n",
       "    </tr>\n",
       "    <tr>\n",
       "      <th>460907</th>\n",
       "      <td>460907</td>\n",
       "      <td>weapon-unlawful-discharge-of</td>\n",
       "      <td>all-other-crimes</td>\n",
       "      <td>2017-09-12 20:37:00</td>\n",
       "      <td>-105.040313</td>\n",
       "      <td>39.721264</td>\n",
       "      <td>barnum-west</td>\n",
       "      <td>1</td>\n",
       "      <td>0</td>\n",
       "    </tr>\n",
       "    <tr>\n",
       "      <th>460908</th>\n",
       "      <td>460908</td>\n",
       "      <td>traf-habitual-offender</td>\n",
       "      <td>all-other-crimes</td>\n",
       "      <td>2017-09-12 16:32:00</td>\n",
       "      <td>-104.847024</td>\n",
       "      <td>39.779596</td>\n",
       "      <td>montbello</td>\n",
       "      <td>1</td>\n",
       "      <td>0</td>\n",
       "    </tr>\n",
       "    <tr>\n",
       "      <th>460909</th>\n",
       "      <td>460909</td>\n",
       "      <td>criminal-mischief-other</td>\n",
       "      <td>public-disorder</td>\n",
       "      <td>2017-09-12 13:04:00</td>\n",
       "      <td>-104.949183</td>\n",
       "      <td>39.756353</td>\n",
       "      <td>skyland</td>\n",
       "      <td>1</td>\n",
       "      <td>0</td>\n",
       "    </tr>\n",
       "    <tr>\n",
       "      <th>460910</th>\n",
       "      <td>460910</td>\n",
       "      <td>theft-other</td>\n",
       "      <td>larceny</td>\n",
       "      <td>2017-09-12 09:30:00</td>\n",
       "      <td>-104.985739</td>\n",
       "      <td>39.735045</td>\n",
       "      <td>capitol-hill</td>\n",
       "      <td>1</td>\n",
       "      <td>0</td>\n",
       "    </tr>\n",
       "  </tbody>\n",
       "</table>\n",
       "<p>460911 rows × 9 columns</p>\n",
       "</div>"
      ],
      "text/plain": [
       "        Unnamed: 0               OFFENSE_TYPE_ID OFFENSE_CATEGORY_ID  \\\n",
       "0                0     traffic-accident-dui-duid    traffic-accident   \n",
       "1                1    vehicular-eluding-no-chase    all-other-crimes   \n",
       "2                2          disturbing-the-peace     public-disorder   \n",
       "3                3                        curfew     public-disorder   \n",
       "4                4            aggravated-assault  aggravated-assault   \n",
       "...            ...                           ...                 ...   \n",
       "460906      460906    burglary-business-by-force            burglary   \n",
       "460907      460907  weapon-unlawful-discharge-of    all-other-crimes   \n",
       "460908      460908        traf-habitual-offender    all-other-crimes   \n",
       "460909      460909       criminal-mischief-other     public-disorder   \n",
       "460910      460910                   theft-other             larceny   \n",
       "\n",
       "              REPORTED_DATE     GEO_LON    GEO_LAT            NEIGHBORHOOD_ID  \\\n",
       "0       2014-06-29 02:01:00 -105.000149  39.745753                        cbd   \n",
       "1       2014-06-29 01:54:00 -104.884660  39.738702                east-colfax   \n",
       "2       2014-06-29 02:00:00 -105.020719  39.706674                athmar-park   \n",
       "3       2014-06-29 02:18:00 -105.001552  39.769505                  sunnyside   \n",
       "4       2014-06-29 04:17:00 -105.018557  39.679229  college-view-south-platte   \n",
       "...                     ...         ...        ...                        ...   \n",
       "460906  2017-09-13 05:48:00 -105.033840  39.762365              west-highland   \n",
       "460907  2017-09-12 20:37:00 -105.040313  39.721264                barnum-west   \n",
       "460908  2017-09-12 16:32:00 -104.847024  39.779596                  montbello   \n",
       "460909  2017-09-12 13:04:00 -104.949183  39.756353                    skyland   \n",
       "460910  2017-09-12 09:30:00 -104.985739  39.735045               capitol-hill   \n",
       "\n",
       "        IS_CRIME  IS_TRAFFIC  \n",
       "0              0           1  \n",
       "1              1           0  \n",
       "2              1           0  \n",
       "3              1           0  \n",
       "4              1           0  \n",
       "...          ...         ...  \n",
       "460906         1           0  \n",
       "460907         1           0  \n",
       "460908         1           0  \n",
       "460909         1           0  \n",
       "460910         1           0  \n",
       "\n",
       "[460911 rows x 9 columns]"
      ]
     },
     "execution_count": 37,
     "metadata": {},
     "output_type": "execute_result"
    }
   ],
   "source": [
    "crime"
   ]
  },
  {
   "cell_type": "code",
   "execution_count": 38,
   "id": "0b7caddd",
   "metadata": {},
   "outputs": [],
   "source": [
    "df = pd.Series(np.random.rand(30), index = pd.date_range('2021-01-13',\n",
    "                                                        periods=30))"
   ]
  },
  {
   "cell_type": "code",
   "execution_count": 39,
   "id": "89cb55cd",
   "metadata": {},
   "outputs": [
    {
     "data": {
      "text/plain": [
       "2021-01-13    0.229800\n",
       "2021-01-14    0.051891\n",
       "2021-01-15    0.474479\n",
       "2021-01-16    0.024073\n",
       "2021-01-17    0.593338\n",
       "2021-01-18    0.600169\n",
       "2021-01-19    0.938341\n",
       "2021-01-20    0.412119\n",
       "2021-01-21    0.300987\n",
       "2021-01-22    0.666769\n",
       "2021-01-23    0.225625\n",
       "2021-01-24    0.532805\n",
       "2021-01-25    0.055800\n",
       "2021-01-26    0.346173\n",
       "2021-01-27    0.797670\n",
       "2021-01-28    0.024502\n",
       "2021-01-29    0.403626\n",
       "2021-01-30    0.161412\n",
       "2021-01-31    0.619076\n",
       "2021-02-01    0.549326\n",
       "2021-02-02    0.225992\n",
       "2021-02-03    0.416650\n",
       "2021-02-04    0.778355\n",
       "2021-02-05    0.820258\n",
       "2021-02-06    0.052082\n",
       "2021-02-07    0.618179\n",
       "2021-02-08    0.144717\n",
       "2021-02-09    0.392545\n",
       "2021-02-10    0.019927\n",
       "2021-02-11    0.324022\n",
       "Freq: D, dtype: float64"
      ]
     },
     "execution_count": 39,
     "metadata": {},
     "output_type": "execute_result"
    }
   ],
   "source": [
    "df"
   ]
  },
  {
   "cell_type": "code",
   "execution_count": 40,
   "id": "5ae55055",
   "metadata": {},
   "outputs": [
    {
     "data": {
      "text/plain": [
       "2021-01-13         NaN\n",
       "2021-01-14    0.229800\n",
       "2021-01-15    0.051891\n",
       "2021-01-16    0.474479\n",
       "2021-01-17    0.024073\n",
       "2021-01-18    0.593338\n",
       "2021-01-19    0.600169\n",
       "2021-01-20    0.938341\n",
       "2021-01-21    0.412119\n",
       "2021-01-22    0.300987\n",
       "2021-01-23    0.666769\n",
       "2021-01-24    0.225625\n",
       "2021-01-25    0.532805\n",
       "2021-01-26    0.055800\n",
       "2021-01-27    0.346173\n",
       "2021-01-28    0.797670\n",
       "2021-01-29    0.024502\n",
       "2021-01-30    0.403626\n",
       "2021-01-31    0.161412\n",
       "2021-02-01    0.619076\n",
       "2021-02-02    0.549326\n",
       "2021-02-03    0.225992\n",
       "2021-02-04    0.416650\n",
       "2021-02-05    0.778355\n",
       "2021-02-06    0.820258\n",
       "2021-02-07    0.052082\n",
       "2021-02-08    0.618179\n",
       "2021-02-09    0.144717\n",
       "2021-02-10    0.392545\n",
       "2021-02-11    0.019927\n",
       "Freq: D, dtype: float64"
      ]
     },
     "execution_count": 40,
     "metadata": {},
     "output_type": "execute_result"
    }
   ],
   "source": [
    "df.shift(1)"
   ]
  },
  {
   "cell_type": "code",
   "execution_count": 42,
   "id": "c80b07f4",
   "metadata": {},
   "outputs": [
    {
     "data": {
      "text/plain": [
       "2021-01-14    0.229800\n",
       "2021-01-15    0.051891\n",
       "2021-01-16    0.474479\n",
       "2021-01-17    0.024073\n",
       "2021-01-18    0.593338\n",
       "2021-01-19    0.600169\n",
       "2021-01-20    0.938341\n",
       "2021-01-21    0.412119\n",
       "2021-01-22    0.300987\n",
       "2021-01-23    0.666769\n",
       "2021-01-24    0.225625\n",
       "2021-01-25    0.532805\n",
       "2021-01-26    0.055800\n",
       "2021-01-27    0.346173\n",
       "2021-01-28    0.797670\n",
       "2021-01-29    0.024502\n",
       "2021-01-30    0.403626\n",
       "2021-01-31    0.161412\n",
       "2021-02-01    0.619076\n",
       "2021-02-02    0.549326\n",
       "2021-02-03    0.225992\n",
       "2021-02-04    0.416650\n",
       "2021-02-05    0.778355\n",
       "2021-02-06    0.820258\n",
       "2021-02-07    0.052082\n",
       "2021-02-08    0.618179\n",
       "2021-02-09    0.144717\n",
       "2021-02-10    0.392545\n",
       "2021-02-11    0.019927\n",
       "2021-02-12    0.324022\n",
       "Freq: D, dtype: float64"
      ]
     },
     "execution_count": 42,
     "metadata": {},
     "output_type": "execute_result"
    }
   ],
   "source": [
    "df.shift(1, freq='D')"
   ]
  },
  {
   "cell_type": "markdown",
   "id": "b486b3f6",
   "metadata": {},
   "source": [
    "#### 5. to_period\n",
    "- 원하는 시간간격으로 출력 가능"
   ]
  },
  {
   "cell_type": "code",
   "execution_count": 43,
   "id": "a1afc4d2",
   "metadata": {},
   "outputs": [],
   "source": [
    "date = pd.date_range('2021-12-25', periods=5, freq='30D')"
   ]
  },
  {
   "cell_type": "code",
   "execution_count": 44,
   "id": "782700ce",
   "metadata": {},
   "outputs": [
    {
     "data": {
      "text/plain": [
       "DatetimeIndex(['2021-12-25', '2022-01-24', '2022-02-23', '2022-03-25',\n",
       "               '2022-04-24'],\n",
       "              dtype='datetime64[ns]', freq='30D')"
      ]
     },
     "execution_count": 44,
     "metadata": {},
     "output_type": "execute_result"
    }
   ],
   "source": [
    "date"
   ]
  },
  {
   "cell_type": "code",
   "execution_count": 45,
   "id": "8d4fb6cd",
   "metadata": {},
   "outputs": [
    {
     "name": "stdout",
     "output_type": "stream",
     "text": [
      "PeriodIndex(['2021', '2022', '2022', '2022', '2022'], dtype='period[A-DEC]')\n"
     ]
    }
   ],
   "source": [
    "print(date.to_period('Y'))"
   ]
  },
  {
   "cell_type": "code",
   "execution_count": 46,
   "id": "795eeeed",
   "metadata": {},
   "outputs": [
    {
     "name": "stdout",
     "output_type": "stream",
     "text": [
      "PeriodIndex(['2021-12', '2022-01', '2022-02', '2022-03', '2022-04'], dtype='period[M]')\n"
     ]
    }
   ],
   "source": [
    "print(date.to_period('M'))"
   ]
  },
  {
   "cell_type": "code",
   "execution_count": null,
   "id": "5db919b6",
   "metadata": {},
   "outputs": [],
   "source": []
  }
 ],
 "metadata": {
  "kernelspec": {
   "display_name": "Python 3 (ipykernel)",
   "language": "python",
   "name": "python3"
  },
  "language_info": {
   "codemirror_mode": {
    "name": "ipython",
    "version": 3
   },
   "file_extension": ".py",
   "mimetype": "text/x-python",
   "name": "python",
   "nbconvert_exporter": "python",
   "pygments_lexer": "ipython3",
   "version": "3.9.7"
  }
 },
 "nbformat": 4,
 "nbformat_minor": 5
}
